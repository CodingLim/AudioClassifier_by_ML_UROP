{
  "nbformat": 4,
  "nbformat_minor": 0,
  "metadata": {
    "colab": {
      "name": "Sound_Classifier_Machine Learning.ipynb",
      "version": "0.3.2",
      "provenance": [],
      "collapsed_sections": []
    },
    "kernelspec": {
      "name": "python3",
      "display_name": "Python 3"
    }
  },
  "cells": [
    {
      "cell_type": "markdown",
      "metadata": {
        "id": "BPnzTwfJrkYW",
        "colab_type": "text"
      },
      "source": [
        "# 기계학습을 이용한 다층구조물에서의 소음원 위치/종류 탐지"
      ]
    },
    {
      "cell_type": "markdown",
      "metadata": {
        "id": "OM7WZ-4Srq4b",
        "colab_type": "text"
      },
      "source": [
        "* 머신러닝을 활용하여 30종류의 위치&소음원 조합의 50개씩의 데이터 총 1500개의 DataSet을 구별하는 Classifier 모델을 학습하였다.\n",
        "* 선택한 알고리즘은 Support Vector Machine 과 3 layer Nerual Net 이다\n",
        "* 해당 코드는 클라우드 기반으로 구글 Colab과 Drive를 사용하였다"
      ]
    },
    {
      "cell_type": "code",
      "metadata": {
        "id": "sXhv-PLeYrAq",
        "colab_type": "code",
        "colab": {}
      },
      "source": [
        "from google.colab import drive\n",
        "drive.mount('/content/drive')"
      ],
      "execution_count": 0,
      "outputs": []
    },
    {
      "cell_type": "markdown",
      "metadata": {
        "id": "TvcS5lYysHeI",
        "colab_type": "text"
      },
      "source": [
        "* 구글 코랩에 연결한다"
      ]
    },
    {
      "cell_type": "code",
      "metadata": {
        "id": "1-SX0xWZJ8hB",
        "colab_type": "code",
        "colab": {}
      },
      "source": [
        "import librosa\n",
        "import IPython.display\n",
        "import librosa.display\n",
        "import numpy as np\n",
        "import matplotlib.pyplot as plt\n",
        "import matplotlib as mpl\n",
        "import matplotlib.font_manager as fm\n",
        "from sklearn import linear_model\n",
        "import glob\n",
        "from tqdm import tqdm\n",
        "import pandas as pd\n",
        "from sklearn import svm\n",
        "from sklearn.metrics import accuracy_score\n",
        "from sklearn.model_selection import validation_curve\n",
        "from sklearn.preprocessing import StandardScaler\n",
        "from sklearn.model_selection import GridSearchCV\n",
        "from sklearn.metrics import classification_report\n"
      ],
      "execution_count": 0,
      "outputs": []
    },
    {
      "cell_type": "code",
      "metadata": {
        "id": "DBAa1seobGfd",
        "colab_type": "code",
        "outputId": "671aa5ca-4825-4c89-d152-21c7b077223e",
        "colab": {
          "base_uri": "https://localhost:8080/",
          "height": 34
        }
      },
      "source": [
        "filelist=sorted(glob.glob('/content/drive/My Drive/sound_files/*.m4a'))\n",
        "print(\"파일개수 \",len(filelist))"
      ],
      "execution_count": 3,
      "outputs": [
        {
          "output_type": "stream",
          "text": [
            "파일개수  1500\n"
          ],
          "name": "stdout"
        }
      ]
    },
    {
      "cell_type": "markdown",
      "metadata": {
        "id": "_YzQdjQxs426",
        "colab_type": "text"
      },
      "source": [
        "* 구글 드라이브에서 전체 음원 파일 위치 목록을 불러온다"
      ]
    },
    {
      "cell_type": "code",
      "metadata": {
        "id": "Bt4Dvt2UwS3M",
        "colab_type": "code",
        "outputId": "60924289-e92d-4fef-c4b1-c8c2b3f10349",
        "colab": {
          "base_uri": "https://localhost:8080/",
          "height": 297
        }
      },
      "source": [
        "y1, sr=librosa.load(filelist[10])\n",
        "y2, sr=librosa.load(filelist[1000])\n",
        "\n",
        "plt.figure()\n",
        "plt.subplot(2, 1, 1)\n",
        "librosa.display.waveplot(y1, sr=sr)\n",
        "plt.title('Example Sound - Ball 2F 0m')\n",
        "plt.subplot(2,1,2)\n",
        "librosa.display.waveplot(y2, sr=sr)\n",
        "plt.title('Example Sound - Chair 1F 6m')\n",
        "plt.tight_layout()\n",
        "plt.show()\n"
      ],
      "execution_count": 4,
      "outputs": [
        {
          "output_type": "display_data",
          "data": {
            "image/png": "[encoded data removed]",
            "text/plain": [
              "<Figure size 432x288 with 2 Axes>"
            ]
          },
          "metadata": {
            "tags": []
          }
        }
      ]
    },
    {
      "cell_type": "markdown",
      "metadata": {
        "id": "kLbHWHettDuA",
        "colab_type": "text"
      },
      "source": [
        "* 음원파일을 열어본다\n",
        "* 여기서는 공과 의자 소리의 차이를 보여준다"
      ]
    },
    {
      "cell_type": "code",
      "metadata": {
        "id": "nLQb3xLmO1D2",
        "colab_type": "code",
        "outputId": "2d740152-2016-4e31-f616-a34d5e3fbb89",
        "colab": {
          "base_uri": "https://localhost:8080/",
          "height": 34
        }
      },
      "source": [
        "mfcc_whole=[]\n",
        "for each_path in tqdm(filelist):\n",
        "  tx, sr=librosa.load(each_path)\n",
        "  mfcc=librosa.feature.mfcc(y=tx, sr=sr)\n",
        "  av_feat=[]\n",
        "  for each_feat in mfcc:\n",
        "    av_feat.append(sum(each_feat)/len(each_feat))\n",
        "  mfcc_whole.append(av_feat)\n",
        "  "
      ],
      "execution_count": 5,
      "outputs": [
        {
          "output_type": "stream",
          "text": [
            "100%|██████████| 1500/1500 [14:54<00:00,  1.61it/s]\n"
          ],
          "name": "stderr"
        }
      ]
    },
    {
      "cell_type": "markdown",
      "metadata": {
        "id": "aoFG3FbGwPwb",
        "colab_type": "text"
      },
      "source": [
        "* Librosa 라이브러리를 활용하여 각 음원으로 부터 MFCC 특징을 뽑아낸다.\n",
        "* MFCC는 음원의 길이에 따라 여러 프레임으로 나오는데 여기서는 간단하게 각 MFCC 번호별로 평균을 내었다"
      ]
    },
    {
      "cell_type": "code",
      "metadata": {
        "id": "B3bu8LoIhdom",
        "colab_type": "code",
        "colab": {
          "base_uri": "https://localhost:8080/",
          "height": 216
        },
        "outputId": "e138dc56-5bd8-448a-cfe9-2113c1010840"
      },
      "source": [
        "df=pd.DataFrame(mfcc_whole)\n",
        "df2=df.copy()\n",
        "df2[20]=[z for z in range(1,31) for i in range(0,50)]\n",
        "df2.head()\n",
        "df2.to_csv('mfcc_data_labeled.csv',header=False, index=False)\n"
      ],
      "execution_count": 51,
      "outputs": [
        {
          "output_type": "execute_result",
          "data": {
            "text/html": [
              "<div>\n",
              "<style scoped>\n",
              "    .dataframe tbody tr th:only-of-type {\n",
              "        vertical-align: middle;\n",
              "    }\n",
              "\n",
              "    .dataframe tbody tr th {\n",
              "        vertical-align: top;\n",
              "    }\n",
              "\n",
              "    .dataframe thead th {\n",
              "        text-align: right;\n",
              "    }\n",
              "</style>\n",
              "<table border=\"1\" class=\"dataframe\">\n",
              "  <thead>\n",
              "    <tr style=\"text-align: right;\">\n",
              "      <th></th>\n",
              "      <th>0</th>\n",
              "      <th>1</th>\n",
              "      <th>2</th>\n",
              "      <th>3</th>\n",
              "      <th>4</th>\n",
              "      <th>5</th>\n",
              "      <th>6</th>\n",
              "      <th>7</th>\n",
              "      <th>8</th>\n",
              "      <th>9</th>\n",
              "      <th>10</th>\n",
              "      <th>11</th>\n",
              "      <th>12</th>\n",
              "      <th>13</th>\n",
              "      <th>14</th>\n",
              "      <th>15</th>\n",
              "      <th>16</th>\n",
              "      <th>17</th>\n",
              "      <th>18</th>\n",
              "      <th>19</th>\n",
              "      <th>20</th>\n",
              "    </tr>\n",
              "  </thead>\n",
              "  <tbody>\n",
              "    <tr>\n",
              "      <th>0</th>\n",
              "      <td>-536.540363</td>\n",
              "      <td>110.273118</td>\n",
              "      <td>-5.743141</td>\n",
              "      <td>18.799755</td>\n",
              "      <td>5.809343</td>\n",
              "      <td>7.707359</td>\n",
              "      <td>-1.055704</td>\n",
              "      <td>5.705636</td>\n",
              "      <td>-1.625086</td>\n",
              "      <td>2.138096</td>\n",
              "      <td>-0.869907</td>\n",
              "      <td>-0.064597</td>\n",
              "      <td>-3.994251</td>\n",
              "      <td>1.217057</td>\n",
              "      <td>-4.303000</td>\n",
              "      <td>1.187887</td>\n",
              "      <td>-1.971259</td>\n",
              "      <td>1.128578</td>\n",
              "      <td>0.155297</td>\n",
              "      <td>6.557962</td>\n",
              "      <td>1</td>\n",
              "    </tr>\n",
              "    <tr>\n",
              "      <th>1</th>\n",
              "      <td>-537.948128</td>\n",
              "      <td>111.090251</td>\n",
              "      <td>-5.186216</td>\n",
              "      <td>18.530018</td>\n",
              "      <td>7.549994</td>\n",
              "      <td>7.361076</td>\n",
              "      <td>-0.939301</td>\n",
              "      <td>5.943355</td>\n",
              "      <td>-2.675104</td>\n",
              "      <td>1.800087</td>\n",
              "      <td>-0.206699</td>\n",
              "      <td>-0.092328</td>\n",
              "      <td>-3.706040</td>\n",
              "      <td>2.308623</td>\n",
              "      <td>-3.975322</td>\n",
              "      <td>1.870684</td>\n",
              "      <td>-1.667897</td>\n",
              "      <td>1.478317</td>\n",
              "      <td>-0.395200</td>\n",
              "      <td>5.616403</td>\n",
              "      <td>1</td>\n",
              "    </tr>\n",
              "    <tr>\n",
              "      <th>2</th>\n",
              "      <td>-533.790367</td>\n",
              "      <td>110.313222</td>\n",
              "      <td>-4.146904</td>\n",
              "      <td>19.937901</td>\n",
              "      <td>7.451876</td>\n",
              "      <td>8.234901</td>\n",
              "      <td>-0.987362</td>\n",
              "      <td>6.089535</td>\n",
              "      <td>-2.694170</td>\n",
              "      <td>1.803838</td>\n",
              "      <td>-0.587081</td>\n",
              "      <td>0.462991</td>\n",
              "      <td>-2.857767</td>\n",
              "      <td>3.019549</td>\n",
              "      <td>-3.313786</td>\n",
              "      <td>1.820412</td>\n",
              "      <td>-1.165917</td>\n",
              "      <td>1.925983</td>\n",
              "      <td>-0.681735</td>\n",
              "      <td>6.111718</td>\n",
              "      <td>1</td>\n",
              "    </tr>\n",
              "    <tr>\n",
              "      <th>3</th>\n",
              "      <td>-538.865751</td>\n",
              "      <td>110.360763</td>\n",
              "      <td>-4.502332</td>\n",
              "      <td>20.620372</td>\n",
              "      <td>8.205115</td>\n",
              "      <td>7.440056</td>\n",
              "      <td>-0.565732</td>\n",
              "      <td>5.893299</td>\n",
              "      <td>-2.594113</td>\n",
              "      <td>1.361902</td>\n",
              "      <td>-0.100339</td>\n",
              "      <td>0.554768</td>\n",
              "      <td>-3.290225</td>\n",
              "      <td>2.146701</td>\n",
              "      <td>-4.143006</td>\n",
              "      <td>1.794328</td>\n",
              "      <td>-0.517079</td>\n",
              "      <td>2.119874</td>\n",
              "      <td>-0.154828</td>\n",
              "      <td>6.278166</td>\n",
              "      <td>1</td>\n",
              "    </tr>\n",
              "    <tr>\n",
              "      <th>4</th>\n",
              "      <td>-539.669963</td>\n",
              "      <td>112.670664</td>\n",
              "      <td>-3.781664</td>\n",
              "      <td>18.850710</td>\n",
              "      <td>7.401434</td>\n",
              "      <td>8.531729</td>\n",
              "      <td>-0.591508</td>\n",
              "      <td>5.519034</td>\n",
              "      <td>-2.250008</td>\n",
              "      <td>1.822892</td>\n",
              "      <td>0.289245</td>\n",
              "      <td>1.431900</td>\n",
              "      <td>-3.360705</td>\n",
              "      <td>2.617851</td>\n",
              "      <td>-4.145576</td>\n",
              "      <td>1.107910</td>\n",
              "      <td>-1.619508</td>\n",
              "      <td>2.375885</td>\n",
              "      <td>0.054577</td>\n",
              "      <td>6.541464</td>\n",
              "      <td>1</td>\n",
              "    </tr>\n",
              "  </tbody>\n",
              "</table>\n",
              "</div>"
            ],
            "text/plain": [
              "           0           1         2   ...        18        19  20\n",
              "0 -536.540363  110.273118 -5.743141  ...  0.155297  6.557962   1\n",
              "1 -537.948128  111.090251 -5.186216  ... -0.395200  5.616403   1\n",
              "2 -533.790367  110.313222 -4.146904  ... -0.681735  6.111718   1\n",
              "3 -538.865751  110.360763 -4.502332  ... -0.154828  6.278166   1\n",
              "4 -539.669963  112.670664 -3.781664  ...  0.054577  6.541464   1\n",
              "\n",
              "[5 rows x 21 columns]"
            ]
          },
          "metadata": {
            "tags": []
          },
          "execution_count": 51
        }
      ]
    },
    {
      "cell_type": "markdown",
      "metadata": {
        "id": "2DcbWfaijAO2",
        "colab_type": "text"
      },
      "source": [
        "* MFCC는 음원을 20개의 Feature로 나타내는 특징 추출 방법이다\n",
        "* 해당 MFCC를 판다스 데이터프레임으로 변환하고 마지막에 해당 음원의 Label을 달아준다."
      ]
    },
    {
      "cell_type": "code",
      "metadata": {
        "id": "EhqxCoXci_Ee",
        "colab_type": "code",
        "colab": {}
      },
      "source": [
        "from google.colab import files\n",
        "files.download('mfcc_data_labeled.csv')"
      ],
      "execution_count": 0,
      "outputs": []
    },
    {
      "cell_type": "markdown",
      "metadata": {
        "id": "NBIWpvAjwy8M",
        "colab_type": "text"
      },
      "source": [
        "* MFCC로 변환된 데이터를 csv 파일로 저장한다\n",
        "* 이 파일을 다시 구글 드라이브에 올린다"
      ]
    },
    {
      "cell_type": "markdown",
      "metadata": {
        "id": "5dODpGw1lGWu",
        "colab_type": "text"
      },
      "source": [
        "## SVM을 이용한 분류기\n"
      ]
    },
    {
      "cell_type": "markdown",
      "metadata": {
        "id": "RdYDytQkk80j",
        "colab_type": "text"
      },
      "source": [
        "* 앞에서 다운받은 CSV 파일을 이용하여 Support Vector Machine 분류기를 학습해보겠다.\n",
        "* 랜덤 sample을 뽑아서 Trainset:TestSet을 60:40으로 나눈뒤\n",
        "파라미터 튜닝과 Crossvalidation을 Gridsearchcv로 하고 모델을 학습하였다.\n",
        "* 그후 해당 분류기에 TestSet을 돌려보아 성능을 평가하였다."
      ]
    },
    {
      "cell_type": "code",
      "metadata": {
        "id": "aEjqkw2TbGwb",
        "colab_type": "code",
        "colab": {
          "base_uri": "https://localhost:8080/",
          "height": 34
        },
        "outputId": "cc7a7488-7653-4b30-f936-90bc6cd32447"
      },
      "source": [
        "from google.colab import drive\n",
        "drive.mount('/content/drive')"
      ],
      "execution_count": 9,
      "outputs": [
        {
          "output_type": "stream",
          "text": [
            "Drive already mounted at /content/drive; to attempt to forcibly remount, call drive.mount(\"/content/drive\", force_remount=True).\n"
          ],
          "name": "stdout"
        }
      ]
    },
    {
      "cell_type": "markdown",
      "metadata": {
        "id": "udnltwrsrESm",
        "colab_type": "text"
      },
      "source": [
        "* 앞에서 저장한 csv 파일을 구글 드라이브로 옮겨준뒤 불러온다.(학습의 편의성을 위해 csv 파일로 다운 받았다)"
      ]
    },
    {
      "cell_type": "code",
      "metadata": {
        "id": "7kYZhEwEbPb8",
        "colab_type": "code",
        "colab": {}
      },
      "source": [
        "\n",
        "df_label_all=pd.read_csv('/content/drive/My Drive/sound_files/mfcc_data_labeled.csv',header=None)\n",
        "df_label_all=df_label_all.sample(frac=1)"
      ],
      "execution_count": 0,
      "outputs": []
    },
    {
      "cell_type": "code",
      "metadata": {
        "id": "1AfOeCz5bTl9",
        "colab_type": "code",
        "colab": {}
      },
      "source": [
        "df_train=pd.DataFrame()\n",
        "df_test=pd.DataFrame()\n",
        "for i in range(1,31):\n",
        "  df_train=df_train.append(df_label_all[df_label_all[20]==i].iloc[0:30])\n",
        "  df_test=df_test.append(df_label_all[df_label_all[20]==i].iloc[30:50])"
      ],
      "execution_count": 0,
      "outputs": []
    },
    {
      "cell_type": "markdown",
      "metadata": {
        "id": "L61Qp5i5lvqa",
        "colab_type": "text"
      },
      "source": [
        "\n",
        "\n",
        "*   전체 데이터를 랜덤 샘플링 해준뒤 학습셋과 테스트셋을 나눈다. 비율은 학습:테스트 = 60 :40으로 했다\n",
        "\n"
      ]
    },
    {
      "cell_type": "code",
      "metadata": {
        "id": "VR6NRVr8iLQZ",
        "colab_type": "code",
        "colab": {}
      },
      "source": [
        "df_train=df_train.sample(frac=1)\n",
        "df_test=df_test.sample(frac=1)\n",
        "y_train=df_train[20]\n",
        "df_train.drop(20,axis=1,inplace=True)\n",
        "y_test=df_test[20]\n",
        "df_test.drop(20, axis=1, inplace=True)\n",
        "\n"
      ],
      "execution_count": 0,
      "outputs": []
    },
    {
      "cell_type": "markdown",
      "metadata": {
        "id": "B2tvKxtBBFEa",
        "colab_type": "text"
      },
      "source": [
        "* label값을 분리하여 y_train, y_test에 넣어준다"
      ]
    },
    {
      "cell_type": "code",
      "metadata": {
        "id": "d4FW7pHmaO2X",
        "colab_type": "code",
        "colab": {}
      },
      "source": [
        "df_train=StandardScaler().fit_transform(df_train)\n",
        "df_test=StandardScaler().fit_transform(df_test)"
      ],
      "execution_count": 0,
      "outputs": []
    },
    {
      "cell_type": "markdown",
      "metadata": {
        "id": "d1W4PS3IBL5O",
        "colab_type": "text"
      },
      "source": [
        "* MFCC 특징값들을 정규화 시켜준다"
      ]
    },
    {
      "cell_type": "code",
      "metadata": {
        "id": "CoO_GrBqe7Cz",
        "colab_type": "code",
        "colab": {
          "base_uri": "https://localhost:8080/",
          "height": 34
        },
        "outputId": "aec2f5a6-1ca2-46a9-a153-4c2c4038392d"
      },
      "source": [
        "mdl=svm.SVC(gamma='auto')\n",
        "mdl.fit(df_train,y_train)\n",
        "predict=mdl.predict(df_test)\n",
        "print(\"Baseline accuracy : \", accuracy_score(y_test,predict))"
      ],
      "execution_count": 29,
      "outputs": [
        {
          "output_type": "stream",
          "text": [
            "Baseline accuracy :  0.91\n"
          ],
          "name": "stdout"
        }
      ]
    },
    {
      "cell_type": "markdown",
      "metadata": {
        "id": "gnaqe12EBUmL",
        "colab_type": "text"
      },
      "source": [
        "* 서포트벡터 머신 모델을 작성한다\n",
        "* 가장 기초적인 모델인 SVC를 하였고 커널은 기본값인 'rbf'를 사용한다\n",
        "* Train set과 Test set을 각각 학습과 테스트에 사용하여 Baseline 점수를 얻었다"
      ]
    },
    {
      "cell_type": "code",
      "metadata": {
        "id": "box5ZT6Ya2yt",
        "colab_type": "code",
        "outputId": "8325e416-5987-46ff-ed61-0f595fbcde36",
        "colab": {
          "base_uri": "https://localhost:8080/",
          "height": 209
        }
      },
      "source": [
        "mdl2=svm.SVC(gamma='auto')\n",
        "parameters = {'C':[1,5, 10,50,100,150,160,180,200,250,300,500]}\n",
        "clf = GridSearchCV(mdl2, parameters, cv=5)\n",
        "clf.fit(df_train,y_train)"
      ],
      "execution_count": 37,
      "outputs": [
        {
          "output_type": "execute_result",
          "data": {
            "text/plain": [
              "GridSearchCV(cv=5, error_score='raise-deprecating',\n",
              "             estimator=SVC(C=1.0, cache_size=200, class_weight=None, coef0=0.0,\n",
              "                           decision_function_shape='ovr', degree=3,\n",
              "                           gamma='auto', kernel='rbf', max_iter=-1,\n",
              "                           probability=False, random_state=None, shrinking=True,\n",
              "                           tol=0.001, verbose=False),\n",
              "             iid='warn', n_jobs=None,\n",
              "             param_grid={'C': [1, 5, 10, 50, 100, 150, 160, 180, 200, 250, 300,\n",
              "                               500]},\n",
              "             pre_dispatch='2*n_jobs', refit=True, return_train_score=False,\n",
              "             scoring=None, verbose=0)"
            ]
          },
          "metadata": {
            "tags": []
          },
          "execution_count": 37
        }
      ]
    },
    {
      "cell_type": "markdown",
      "metadata": {
        "id": "My0wVNo1CDO7",
        "colab_type": "text"
      },
      "source": [
        "* 보다 정확한 모델과 파라미터 튜닝을 위해 GridSearch를 사용한다\n",
        "* Crossvalidation은 5로 하고 SVC에서 마진의 폭에 영향을 주는 'C'값을 다양하게 넣고 실행한다"
      ]
    },
    {
      "cell_type": "code",
      "metadata": {
        "id": "Q1L5gB8Yb_nx",
        "colab_type": "code",
        "outputId": "81da3781-0abf-415d-df2a-5ba624dcf42b",
        "colab": {
          "base_uri": "https://localhost:8080/",
          "height": 121
        }
      },
      "source": [
        "print(\"accuracy with GridSearch, Crossvalidation : \",clf.best_score_)\n",
        "print(\"Best estimator, parameters\")\n",
        "clf.best_estimator_"
      ],
      "execution_count": 38,
      "outputs": [
        {
          "output_type": "stream",
          "text": [
            "accuracy with GridSearch, Crossvalidation :  0.9455555555555556\n",
            "Best estimator, parameters\n"
          ],
          "name": "stdout"
        },
        {
          "output_type": "execute_result",
          "data": {
            "text/plain": [
              "SVC(C=250, cache_size=200, class_weight=None, coef0=0.0,\n",
              "    decision_function_shape='ovr', degree=3, gamma='auto', kernel='rbf',\n",
              "    max_iter=-1, probability=False, random_state=None, shrinking=True,\n",
              "    tol=0.001, verbose=False)"
            ]
          },
          "metadata": {
            "tags": []
          },
          "execution_count": 38
        }
      ]
    },
    {
      "cell_type": "markdown",
      "metadata": {
        "id": "FMkoyJyfCT16",
        "colab_type": "text"
      },
      "source": [
        "* 그리드 서치의 결과는 좋은 결과가 나왔다.\n",
        "* C값은 250이 가장 좋게 나왔다\n",
        "* GridSerachCV는 최적 파라미터를 구한뒤 이것을 다시 전체 train set으로 Refit하는 기능을 가지고 있어 최적 estimator를 구해준다\n",
        "* 이 estimator에 아까 나누어 놓았던 test set을 돌려서 최종 평가를 받는다."
      ]
    },
    {
      "cell_type": "code",
      "metadata": {
        "id": "hxOLNeAfccX-",
        "colab_type": "code",
        "outputId": "7b3f7d88-3bce-4196-95df-40f3ccbaceef",
        "colab": {
          "base_uri": "https://localhost:8080/",
          "height": 680
        }
      },
      "source": [
        "predic=clf.predict(df_test)\n",
        "print(\"Testset results\")\n",
        "print(classification_report(y_test,predic))"
      ],
      "execution_count": 39,
      "outputs": [
        {
          "output_type": "stream",
          "text": [
            "Testset results\n",
            "              precision    recall  f1-score   support\n",
            "\n",
            "           1       1.00      1.00      1.00        20\n",
            "           2       0.91      1.00      0.95        20\n",
            "           3       0.90      0.90      0.90        20\n",
            "           4       1.00      0.80      0.89        20\n",
            "           5       0.82      0.90      0.86        20\n",
            "           6       0.91      1.00      0.95        20\n",
            "           7       1.00      1.00      1.00        20\n",
            "           8       1.00      1.00      1.00        20\n",
            "           9       1.00      1.00      1.00        20\n",
            "          10       1.00      0.90      0.95        20\n",
            "          11       1.00      0.95      0.97        20\n",
            "          12       0.95      0.95      0.95        20\n",
            "          13       1.00      0.95      0.97        20\n",
            "          14       1.00      1.00      1.00        20\n",
            "          15       0.90      0.90      0.90        20\n",
            "          16       0.95      1.00      0.98        20\n",
            "          17       0.87      1.00      0.93        20\n",
            "          18       1.00      0.90      0.95        20\n",
            "          19       0.95      0.90      0.92        20\n",
            "          20       0.90      0.90      0.90        20\n",
            "          21       0.95      1.00      0.98        20\n",
            "          22       0.91      1.00      0.95        20\n",
            "          23       1.00      0.80      0.89        20\n",
            "          24       0.91      1.00      0.95        20\n",
            "          25       1.00      1.00      1.00        20\n",
            "          26       1.00      0.95      0.97        20\n",
            "          27       0.95      1.00      0.98        20\n",
            "          28       1.00      1.00      1.00        20\n",
            "          29       1.00      1.00      1.00        20\n",
            "          30       1.00      1.00      1.00        20\n",
            "\n",
            "    accuracy                           0.96       600\n",
            "   macro avg       0.96      0.96      0.96       600\n",
            "weighted avg       0.96      0.96      0.96       600\n",
            "\n"
          ],
          "name": "stdout"
        }
      ]
    },
    {
      "cell_type": "markdown",
      "metadata": {
        "id": "7AlK1oGmCwoP",
        "colab_type": "text"
      },
      "source": [
        "* 최종정확도는 0.96으로 그리드서치와 Crossvalidation을 하기 전인 0.91보다 대폭 좋은 성능을 보여주었다."
      ]
    },
    {
      "cell_type": "markdown",
      "metadata": {
        "id": "KzC28mASeT2_",
        "colab_type": "text"
      },
      "source": [
        "## Nerual Net 모델을 활용한 분류기 Using Keras"
      ]
    },
    {
      "cell_type": "markdown",
      "metadata": {
        "id": "YsU7EUngelOb",
        "colab_type": "text"
      },
      "source": [
        "* 이번에는 딥러닝 모델의 기초인 2-Hidden Layer을 가진 신경회로망을 이용해 소리를 분류해겠다\n",
        "* Keras를 활용하여 학습하였다\n",
        "* 특징값은 앞에서 얻은 20-MFCC를 그대로 사용한다\n",
        "* 데이터를 학습:Validation : Test Set 으로 각각 1050 : 300 :150 으로 나누어서 사용하였다"
      ]
    },
    {
      "cell_type": "code",
      "metadata": {
        "id": "IqUBep8-N9qn",
        "colab_type": "code",
        "colab": {
          "base_uri": "https://localhost:8080/",
          "height": 34
        },
        "outputId": "426d26d0-13e0-4094-8308-138b9f9d4b84"
      },
      "source": [
        "from keras import models\n",
        "from keras import layers\n",
        "from keras.callbacks import EarlyStopping\n",
        "from keras.utils.np_utils import to_categorical\n"
      ],
      "execution_count": 40,
      "outputs": [
        {
          "output_type": "stream",
          "text": [
            "Using TensorFlow backend.\n"
          ],
          "name": "stderr"
        }
      ]
    },
    {
      "cell_type": "markdown",
      "metadata": {
        "id": "43OGNcP9fQD4",
        "colab_type": "text"
      },
      "source": [
        "* 케라스를 불러온다"
      ]
    },
    {
      "cell_type": "code",
      "metadata": {
        "id": "6tgjvcZbKxBp",
        "colab_type": "code",
        "outputId": "8b7c285c-c867-4803-9625-af4878eeeb2b",
        "colab": {
          "base_uri": "https://localhost:8080/",
          "height": 34
        }
      },
      "source": [
        "from google.colab import drive\n",
        "drive.mount('/content/drive')"
      ],
      "execution_count": 41,
      "outputs": [
        {
          "output_type": "stream",
          "text": [
            "Drive already mounted at /content/drive; to attempt to forcibly remount, call drive.mount(\"/content/drive\", force_remount=True).\n"
          ],
          "name": "stdout"
        }
      ]
    },
    {
      "cell_type": "code",
      "metadata": {
        "id": "CW4Lnj2-Kx1X",
        "colab_type": "code",
        "colab": {}
      },
      "source": [
        "df_label_all=pd.read_csv('/content/drive/My Drive/sound_files/mfcc_data_labeled.csv',header=None)\n",
        "df_label_all=df_label_all.sample(frac=1)\n",
        "\n",
        "df_train=pd.DataFrame()\n",
        "df_test=pd.DataFrame()\n",
        "df_final=pd.DataFrame()\n",
        "for i in range(1,31):\n",
        "  df_train=df_train.append(df_label_all[df_label_all[20]==i].iloc[0:35])\n",
        "  df_test=df_test.append(df_label_all[df_label_all[20]==i].iloc[35:45])\n",
        "  df_final=df_final.append(df_label_all[df_label_all[20]==i].iloc[45:50])\n",
        "\n"
      ],
      "execution_count": 0,
      "outputs": []
    },
    {
      "cell_type": "markdown",
      "metadata": {
        "id": "o7wNWAWyfaAY",
        "colab_type": "text"
      },
      "source": [
        "* 앞서 SVM 모델에서 사용했던 csv 파일을 다시 불러온다"
      ]
    },
    {
      "cell_type": "code",
      "metadata": {
        "id": "jCLERZBqN7Da",
        "colab_type": "code",
        "colab": {}
      },
      "source": [
        "df_train=df_train.sample(frac=1)\n",
        "df_test=df_test.sample(frac=1)\n",
        "df_final=df_final.sample(frac=1)\n",
        " \n",
        "y_train=df_train[20]\n",
        "df_train.drop(20,axis=1,inplace=True)\n",
        "y_test=df_test[20]\n",
        "df_test.drop(20, axis=1, inplace=True)\n",
        "\n",
        "y_final=df_final[20]\n",
        "df_final.drop(20,axis=1,inplace=True)\n"
      ],
      "execution_count": 0,
      "outputs": []
    },
    {
      "cell_type": "markdown",
      "metadata": {
        "id": "zQ5VF_ZHfeLQ",
        "colab_type": "text"
      },
      "source": [
        "* 학습 , validation ,test set으로 나누고 label 열을 분리해준다"
      ]
    },
    {
      "cell_type": "code",
      "metadata": {
        "id": "zC5UAX6DN8Me",
        "colab_type": "code",
        "colab": {}
      },
      "source": [
        "\n",
        "df_train=StandardScaler().fit_transform(df_train)\n",
        "df_test=StandardScaler().fit_transform(df_test)\n",
        "df_final=StandardScaler().fit_transform(df_final)"
      ],
      "execution_count": 0,
      "outputs": []
    },
    {
      "cell_type": "markdown",
      "metadata": {
        "id": "JTycOvLCjt4i",
        "colab_type": "text"
      },
      "source": [
        "* 마찬가지로 정규화 시켜준다"
      ]
    },
    {
      "cell_type": "code",
      "metadata": {
        "id": "Z0bvZcUWOif8",
        "colab_type": "code",
        "colab": {}
      },
      "source": [
        "\n",
        "y_train=y_train-1\n",
        "y_test=y_test-1\n",
        "y_final=y_final-1\n",
        "\n",
        "one_hot_train=to_categorical(y_train)\n",
        "one_hot_test=to_categorical(y_test)\n",
        "one_hot_final=to_categorical(y_final)"
      ],
      "execution_count": 0,
      "outputs": []
    },
    {
      "cell_type": "markdown",
      "metadata": {
        "id": "a4J3Frl1fkfi",
        "colab_type": "text"
      },
      "source": [
        "* 30개의 레이블을 one-hot encoding 시켜준다"
      ]
    },
    {
      "cell_type": "code",
      "metadata": {
        "id": "VkddoRriOEr3",
        "colab_type": "code",
        "colab": {
          "base_uri": "https://localhost:8080/",
          "height": 141
        },
        "outputId": "bf517476-bcd6-4d6d-c73e-512458196ae8"
      },
      "source": [
        "model=models.Sequential()\n",
        "model.add(layers.Dense(64,activation='relu',input_shape=(20,)))\n",
        "model.add(layers.Dense(64,activation='relu'))\n",
        "model.add(layers.Dense(30,activation='softmax'))"
      ],
      "execution_count": 46,
      "outputs": [
        {
          "output_type": "stream",
          "text": [
            "WARNING:tensorflow:From /usr/local/lib/python3.6/dist-packages/keras/backend/tensorflow_backend.py:66: The name tf.get_default_graph is deprecated. Please use tf.compat.v1.get_default_graph instead.\n",
            "\n",
            "WARNING:tensorflow:From /usr/local/lib/python3.6/dist-packages/keras/backend/tensorflow_backend.py:541: The name tf.placeholder is deprecated. Please use tf.compat.v1.placeholder instead.\n",
            "\n",
            "WARNING:tensorflow:From /usr/local/lib/python3.6/dist-packages/keras/backend/tensorflow_backend.py:4432: The name tf.random_uniform is deprecated. Please use tf.random.uniform instead.\n",
            "\n"
          ],
          "name": "stdout"
        }
      ]
    },
    {
      "cell_type": "markdown",
      "metadata": {
        "id": "Pi6SJCsmfn0S",
        "colab_type": "text"
      },
      "source": [
        "* 30개의 레이블이므로 넉넉하게 중간층 2개, 각각 64개의 유닛으로 설계하였다\n",
        "* 마지막은 30개의 유닛으로 softmax로 다중 레이블 분류기로 만들었다\n",
        "* 은닉층을 3개, 유닛을 128개로 해보았으나 크게 향상되는 부분이 없어 가볍게 모델을 설계했다"
      ]
    },
    {
      "cell_type": "code",
      "metadata": {
        "id": "1qDgoYZmOFe4",
        "colab_type": "code",
        "colab": {
          "base_uri": "https://localhost:8080/",
          "height": 106
        },
        "outputId": "33462006-aa16-4f01-9cae-0df890b00668"
      },
      "source": [
        "model.compile(optimizer='adam', loss='categorical_crossentropy',metrics=['accuracy'])"
      ],
      "execution_count": 47,
      "outputs": [
        {
          "output_type": "stream",
          "text": [
            "WARNING:tensorflow:From /usr/local/lib/python3.6/dist-packages/keras/optimizers.py:793: The name tf.train.Optimizer is deprecated. Please use tf.compat.v1.train.Optimizer instead.\n",
            "\n",
            "WARNING:tensorflow:From /usr/local/lib/python3.6/dist-packages/keras/backend/tensorflow_backend.py:3576: The name tf.log is deprecated. Please use tf.math.log instead.\n",
            "\n"
          ],
          "name": "stdout"
        }
      ]
    },
    {
      "cell_type": "markdown",
      "metadata": {
        "id": "1SpvNosNf49w",
        "colab_type": "text"
      },
      "source": [
        "* 모델을 컴파일한다. optimizer는 최근에 널리쓰이는 아담을 사용한다\n",
        "* 이때 Earlystopping을 patience 10으로 두어 불필요하게 학습이 길어지고 오버피팅이 발생하는 을 피한다"
      ]
    },
    {
      "cell_type": "code",
      "metadata": {
        "id": "JwDSIWkNPJ9N",
        "colab_type": "code",
        "outputId": "50eedd15-0632-4773-d849-392e31c56b15",
        "colab": {
          "base_uri": "https://localhost:8080/",
          "height": 1000
        }
      },
      "source": [
        "early_stopping = EarlyStopping(monitor='val_acc',patience=10)\n",
        "\n",
        "history=model.fit(df_train,one_hot_train,epochs=100,batch_size=16,validation_data=(df_test,one_hot_test),callbacks=[early_stopping])"
      ],
      "execution_count": 48,
      "outputs": [
        {
          "output_type": "stream",
          "text": [
            "WARNING:tensorflow:From /usr/local/lib/python3.6/dist-packages/tensorflow/python/ops/math_grad.py:1250: add_dispatch_support.<locals>.wrapper (from tensorflow.python.ops.array_ops) is deprecated and will be removed in a future version.\n",
            "Instructions for updating:\n",
            "Use tf.where in 2.0, which has the same broadcast rule as np.where\n",
            "WARNING:tensorflow:From /usr/local/lib/python3.6/dist-packages/keras/backend/tensorflow_backend.py:1033: The name tf.assign_add is deprecated. Please use tf.compat.v1.assign_add instead.\n",
            "\n",
            "Train on 1050 samples, validate on 300 samples\n",
            "Epoch 1/100\n",
            "1050/1050 [==============================] - 1s 780us/step - loss: 2.9002 - acc: 0.2333 - val_loss: 2.2797 - val_acc: 0.4700\n",
            "Epoch 2/100\n",
            "1050/1050 [==============================] - 0s 84us/step - loss: 1.8029 - acc: 0.5743 - val_loss: 1.3578 - val_acc: 0.6767\n",
            "Epoch 3/100\n",
            "1050/1050 [==============================] - 0s 82us/step - loss: 1.1389 - acc: 0.7200 - val_loss: 0.9360 - val_acc: 0.7500\n",
            "Epoch 4/100\n",
            "1050/1050 [==============================] - 0s 85us/step - loss: 0.8211 - acc: 0.7876 - val_loss: 0.7371 - val_acc: 0.7700\n",
            "Epoch 5/100\n",
            "1050/1050 [==============================] - 0s 84us/step - loss: 0.6351 - acc: 0.8314 - val_loss: 0.5964 - val_acc: 0.8133\n",
            "Epoch 6/100\n",
            "1050/1050 [==============================] - 0s 89us/step - loss: 0.5023 - acc: 0.8657 - val_loss: 0.5187 - val_acc: 0.8400\n",
            "Epoch 7/100\n",
            "1050/1050 [==============================] - 0s 87us/step - loss: 0.4170 - acc: 0.8848 - val_loss: 0.4532 - val_acc: 0.8333\n",
            "Epoch 8/100\n",
            "1050/1050 [==============================] - 0s 85us/step - loss: 0.3500 - acc: 0.9076 - val_loss: 0.4030 - val_acc: 0.8667\n",
            "Epoch 9/100\n",
            "1050/1050 [==============================] - 0s 87us/step - loss: 0.2998 - acc: 0.9181 - val_loss: 0.3899 - val_acc: 0.8500\n",
            "Epoch 10/100\n",
            "1050/1050 [==============================] - 0s 89us/step - loss: 0.2599 - acc: 0.9257 - val_loss: 0.3576 - val_acc: 0.9067\n",
            "Epoch 11/100\n",
            "1050/1050 [==============================] - 0s 86us/step - loss: 0.2376 - acc: 0.9371 - val_loss: 0.3282 - val_acc: 0.8933\n",
            "Epoch 12/100\n",
            "1050/1050 [==============================] - 0s 86us/step - loss: 0.2124 - acc: 0.9429 - val_loss: 0.3021 - val_acc: 0.9133\n",
            "Epoch 13/100\n",
            "1050/1050 [==============================] - 0s 85us/step - loss: 0.1827 - acc: 0.9514 - val_loss: 0.2851 - val_acc: 0.8933\n",
            "Epoch 14/100\n",
            "1050/1050 [==============================] - 0s 91us/step - loss: 0.1705 - acc: 0.9514 - val_loss: 0.2735 - val_acc: 0.9000\n",
            "Epoch 15/100\n",
            "1050/1050 [==============================] - 0s 85us/step - loss: 0.1637 - acc: 0.9543 - val_loss: 0.2749 - val_acc: 0.9267\n",
            "Epoch 16/100\n",
            "1050/1050 [==============================] - 0s 87us/step - loss: 0.1380 - acc: 0.9619 - val_loss: 0.2641 - val_acc: 0.9333\n",
            "Epoch 17/100\n",
            "1050/1050 [==============================] - 0s 89us/step - loss: 0.1336 - acc: 0.9676 - val_loss: 0.2398 - val_acc: 0.9300\n",
            "Epoch 18/100\n",
            "1050/1050 [==============================] - 0s 88us/step - loss: 0.1236 - acc: 0.9705 - val_loss: 0.2385 - val_acc: 0.9367\n",
            "Epoch 19/100\n",
            "1050/1050 [==============================] - 0s 93us/step - loss: 0.1147 - acc: 0.9686 - val_loss: 0.2388 - val_acc: 0.9267\n",
            "Epoch 20/100\n",
            "1050/1050 [==============================] - 0s 90us/step - loss: 0.1071 - acc: 0.9695 - val_loss: 0.2637 - val_acc: 0.9100\n",
            "Epoch 21/100\n",
            "1050/1050 [==============================] - 0s 93us/step - loss: 0.1040 - acc: 0.9657 - val_loss: 0.2262 - val_acc: 0.9300\n",
            "Epoch 22/100\n",
            "1050/1050 [==============================] - 0s 89us/step - loss: 0.0940 - acc: 0.9724 - val_loss: 0.2161 - val_acc: 0.9600\n",
            "Epoch 23/100\n",
            "1050/1050 [==============================] - 0s 87us/step - loss: 0.0852 - acc: 0.9790 - val_loss: 0.2347 - val_acc: 0.9400\n",
            "Epoch 24/100\n",
            "1050/1050 [==============================] - 0s 88us/step - loss: 0.0824 - acc: 0.9762 - val_loss: 0.2274 - val_acc: 0.9400\n",
            "Epoch 25/100\n",
            "1050/1050 [==============================] - 0s 87us/step - loss: 0.0783 - acc: 0.9790 - val_loss: 0.2214 - val_acc: 0.9500\n",
            "Epoch 26/100\n",
            "1050/1050 [==============================] - 0s 86us/step - loss: 0.0828 - acc: 0.9752 - val_loss: 0.2324 - val_acc: 0.9533\n",
            "Epoch 27/100\n",
            "1050/1050 [==============================] - 0s 88us/step - loss: 0.0753 - acc: 0.9743 - val_loss: 0.2089 - val_acc: 0.9600\n",
            "Epoch 28/100\n",
            "1050/1050 [==============================] - 0s 85us/step - loss: 0.0660 - acc: 0.9829 - val_loss: 0.2087 - val_acc: 0.9600\n",
            "Epoch 29/100\n",
            "1050/1050 [==============================] - 0s 88us/step - loss: 0.0647 - acc: 0.9800 - val_loss: 0.2055 - val_acc: 0.9567\n",
            "Epoch 30/100\n",
            "1050/1050 [==============================] - 0s 89us/step - loss: 0.0642 - acc: 0.9790 - val_loss: 0.2063 - val_acc: 0.9400\n",
            "Epoch 31/100\n",
            "1050/1050 [==============================] - 0s 88us/step - loss: 0.0669 - acc: 0.9790 - val_loss: 0.2006 - val_acc: 0.9533\n",
            "Epoch 32/100\n",
            "1050/1050 [==============================] - 0s 84us/step - loss: 0.0626 - acc: 0.9810 - val_loss: 0.1929 - val_acc: 0.9600\n"
          ],
          "name": "stdout"
        }
      ]
    },
    {
      "cell_type": "markdown",
      "metadata": {
        "id": "_kCvbmjSgMjp",
        "colab_type": "text"
      },
      "source": [
        "* 학습 결과를 보면 대략 0.95에서 움직이는 것을 볼 수 있다. 이것은 앞서 SVM에서의 0.96과 유사한 결과이다."
      ]
    },
    {
      "cell_type": "code",
      "metadata": {
        "id": "wf334xEZQFez",
        "colab_type": "code",
        "outputId": "4fbe02b8-7318-401b-dbfb-658327cfe196",
        "colab": {
          "base_uri": "https://localhost:8080/",
          "height": 545
        }
      },
      "source": [
        "acc=history.history['acc']\n",
        "val_acc=history.history['val_acc']\n",
        "loss= history.history['loss']\n",
        "val_loss=history.history['val_loss']\n",
        "\n",
        "epochs=range(1,len(acc)+1)\n",
        "\n",
        "plt.plot(epochs,acc,'bo',label='Training acc')\n",
        "plt.plot(epochs,val_acc,'b',label='Validation acc')\n",
        "plt.title('Training and validation accuracy')\n",
        "plt.legend()\n",
        "\n",
        "plt.figure()\n",
        "\n",
        "plt.plot(epochs,loss,'bo',label='Training loss')\n",
        "plt.plot(epochs,val_loss,'b',label='Validation loss')\n",
        "plt.title('Training and validation loss')\n",
        "plt.legend()\n",
        "\n",
        "plt.show()"
      ],
      "execution_count": 49,
      "outputs": [
        {
          "output_type": "display_data",
          "data": {
            "image/png": "[encoded data removed]",
            "text/plain": [
              "<Figure size 432x288 with 1 Axes>"
            ]
          },
          "metadata": {
            "tags": []
          }
        },
        {
          "output_type": "display_data",
          "data": {
            "image/png": "[encoded data removed]",
            "text/plain": [
              "<Figure size 432x288 with 1 Axes>"
            ]
          },
          "metadata": {
            "tags": []
          }
        }
      ]
    },
    {
      "cell_type": "code",
      "metadata": {
        "id": "swVGZINkSx37",
        "colab_type": "code",
        "outputId": "9532fc93-417e-42ad-ea05-0adae3b7c017",
        "colab": {
          "base_uri": "https://localhost:8080/",
          "height": 69
        }
      },
      "source": [
        "loss_and_metrics = model.evaluate(df_final, one_hot_final, batch_size=16)\n",
        "print('## evaluation loss and_metrics ##')\n",
        "print(loss_and_metrics)"
      ],
      "execution_count": 50,
      "outputs": [
        {
          "output_type": "stream",
          "text": [
            "150/150 [==============================] - 0s 127us/step\n",
            "## evaluation loss and_metrics ##\n",
            "[0.13251297666380804, 0.9333333333333333]\n"
          ],
          "name": "stdout"
        }
      ]
    },
    {
      "cell_type": "markdown",
      "metadata": {
        "id": "S3wt0h1TgjFP",
        "colab_type": "text"
      },
      "source": [
        "* 최종적으로 학습된 모델에 Test set을 넣어 성능을 평가해본다\n",
        "* 0.93~0.96에서 진동한다.\n",
        "* svm과 유사한 성능을 보여준다"
      ]
    },
    {
      "cell_type": "markdown",
      "metadata": {
        "id": "IFDIwdLiC7Q7",
        "colab_type": "text"
      },
      "source": [
        "## 결론"
      ]
    },
    {
      "cell_type": "markdown",
      "metadata": {
        "id": "mkOwYBTTDFj8",
        "colab_type": "text"
      },
      "source": [
        "* 30개의 label을 가진 1500개의 오디오 데이터를 분류하는 support vecter classifier와 Nerual Net을 생성해보았다.\n",
        "* 소리의 특징들이 소리의 종류마다 크게다르고 층별로는 진폭의 크기가 크게 다르기 때문에 간단한 머신러닝 알고리즘으로도 높은 성능을 보여주었다.\n",
        "* SVM의 경우 Gridserachcv를 통해 최적의 파라미터를 튜닝하여 baseline보다 높은 성능 ( 0.91-> 0.96)을 얻어낼 수 있었다\n",
        "* Nerural Net의 경우 빠르게 accuracy가 수렴하였고 결과적으로 SVM의 결과와 모델 성능이 비슷하였다."
      ]
    },
    {
      "cell_type": "code",
      "metadata": {
        "id": "hw0iMH2qKo5E",
        "colab_type": "code",
        "colab": {}
      },
      "source": [
        ""
      ],
      "execution_count": 0,
      "outputs": []
    }
  ]
}
